{
 "cells": [
  {
   "cell_type": "markdown",
   "id": "dceebe7a-479b-474f-b71b-4e5e25dff1ce",
   "metadata": {
    "tags": []
   },
   "source": [
    "# Study of the distribution of participants in the [#DataCleaningchallenge](https://twitter.com/hashtag/DataCleaningchallenge?src=hashtag_click) organised by [@PromiseNonso_](https://twitter.com/PromiseNonso_)\n",
    "\n",
    "## You can reach me on twitter as [@chusk2](https://twitter.com/chusk2) and follow my github repositories at [danicoder github](https://github.com/chusk2)  \n",
    "Both my [#DataCleaningchallenge](https://github.com/chusk2/data_cleaning_challenge_fifa21)\n",
    "and [phone scrapping](https://github.com/chusk2/phone_scrapping) can be found in my github repositories."
   ]
  },
  {
   "cell_type": "code",
   "execution_count": 1,
   "id": "f588037f-347e-48a3-95bb-e4a1b8f3b1ff",
   "metadata": {
    "tags": []
   },
   "outputs": [],
   "source": [
    "import pandas as pd\n",
    "import matplotlib.pyplot as plt"
   ]
  },
  {
   "cell_type": "markdown",
   "id": "14b9c327-86f6-4fcc-ba85-1cd0f153448a",
   "metadata": {},
   "source": [
    "## Accessing Developers Tools"
   ]
  },
  {
   "cell_type": "markdown",
   "id": "be335c91-d23d-4b1d-b800-ee4b4b7e6609",
   "metadata": {},
   "source": [
    "#### Firefox and Chrome: Options --> More Tools -->  Web Developer Tools"
   ]
  },
  {
   "cell_type": "markdown",
   "id": "060d4384-5155-413c-8c6b-f9f396da8def",
   "metadata": {},
   "source": [
    "## Right click on the html code selected on the right side of the screen and Select: Copy --> Inner HTML"
   ]
  },
  {
   "cell_type": "markdown",
   "id": "7c766e61-9515-4a26-8765-c1558c4f3d49",
   "metadata": {},
   "source": [
    "Paste the content of the clip paper into a text editor and save the content as txt file, for example."
   ]
  },
  {
   "cell_type": "markdown",
   "id": "46ece13b-7450-4592-a39d-96528f32fa42",
   "metadata": {},
   "source": [
    "I have the content saved as `contacts.txt`"
   ]
  },
  {
   "cell_type": "markdown",
   "id": "d0eb3eee-0aa4-4bc7-8e33-fcc4bef2b6ad",
   "metadata": {},
   "source": [
    "## 1. Read the content of the text file"
   ]
  },
  {
   "cell_type": "markdown",
   "id": "ca0384df-53c8-414c-9a2b-3a9e34e90bb9",
   "metadata": {},
   "source": [
    "### <span style='color: red'>Originally the phone numbers where in plain text. I have worked on a solution to mask them. The code below was used to get the result you can see in encrypted phone numbers.</span>"
   ]
  },
  {
   "cell_type": "code",
   "execution_count": 2,
   "id": "26676900-4c97-4e5b-a6aa-49ea254da125",
   "metadata": {
    "tags": []
   },
   "outputs": [],
   "source": [
    "# with open('data_challenge_whatsapp.txt' , 'r') as file:\n",
    "#     contacts = file.readlines()"
   ]
  },
  {
   "cell_type": "code",
   "execution_count": 3,
   "id": "c8cf1614-1567-4bdd-84ec-f36d950a1bf6",
   "metadata": {
    "tags": []
   },
   "outputs": [],
   "source": [
    "#phone_numbers = contacts[0].split(', ')"
   ]
  },
  {
   "cell_type": "code",
   "execution_count": 4,
   "id": "359f0dde-60a6-40c0-bf9c-bcb6349cfa27",
   "metadata": {
    "tags": []
   },
   "outputs": [],
   "source": [
    "#phone_numbers_encripted = phone_numbers.copy()"
   ]
  },
  {
   "cell_type": "code",
   "execution_count": 5,
   "id": "dc73f8aa-7761-42c5-80a7-c32ce24da7ae",
   "metadata": {
    "tags": []
   },
   "outputs": [],
   "source": [
    "# def encrypt(phone):\n",
    "#     if not phone.startswith('+1'):\n",
    "#         space_pos = phone.find(' ')\n",
    "#         preffix = phone[:space_pos]\n",
    "#         numbers = phone[space_pos+1:]\n",
    "#         encrypted_number = ''\n",
    "#         for char in numbers:\n",
    "#             if char != ' ':\n",
    "#                 encrypted_number += 'X'\n",
    "#             else:\n",
    "#                 encrypted_number += '-'\n",
    "#     else: # +1 (514) 651-4533\n",
    "#         close_bracket_pos = phone.find(')')\n",
    "#         preffix = phone[:close_bracket_pos+1]\n",
    "#         numbers = phone[close_bracket_pos:]\n",
    "#         encrypted_number = ''\n",
    "#         for char in numbers:\n",
    "#             if char != ' ':\n",
    "#                 encrypted_number += 'X'\n",
    "#     return preffix + ' ' + encrypted_number           "
   ]
  },
  {
   "cell_type": "code",
   "execution_count": 6,
   "id": "088ea97a-56b7-42a9-9d13-5b7d89e9acc9",
   "metadata": {
    "tags": []
   },
   "outputs": [],
   "source": [
    "# encrypted_phones = [encrypt(i) for i in phone_numbers]\n",
    "# encrypted_phones = ', '.join(encrypted_phones)\n",
    "# copy the output of encrypted_phones to a text file called encrypted_phone_numbers.txt"
   ]
  },
  {
   "cell_type": "markdown",
   "id": "8ea6ebcd-1a0b-4e7f-b35d-9b16002e65ee",
   "metadata": {},
   "source": [
    "## Read the phone numbers from text file"
   ]
  },
  {
   "cell_type": "code",
   "execution_count": 7,
   "id": "4403c6fb-4966-4bdc-ad64-4775edcdef2e",
   "metadata": {
    "tags": []
   },
   "outputs": [],
   "source": [
    "with open('encrypted_phone_numbers.txt' , 'r') as file:\n",
    "    contacts_encrypted = file.readlines()"
   ]
  },
  {
   "cell_type": "code",
   "execution_count": 8,
   "id": "eb1c59f2-a969-41c9-ba90-c7c413a7ccf7",
   "metadata": {
    "tags": []
   },
   "outputs": [],
   "source": [
    "#contacts_encrypted"
   ]
  },
  {
   "cell_type": "markdown",
   "id": "57b13084-d29b-44be-b4fb-92dfe047f5ff",
   "metadata": {},
   "source": [
    "### Now let's do some cleaning  \n",
    "Firstly, I have a long string with phone numbers, separated by comma. I will use `.split(', ')` to separate them."
   ]
  },
  {
   "cell_type": "code",
   "execution_count": 9,
   "id": "d5349697-ab42-4d1c-beb0-c0d34e8cdf3d",
   "metadata": {
    "tags": []
   },
   "outputs": [],
   "source": [
    "phone_numbers = contacts_encrypted[0].split(', ')"
   ]
  },
  {
   "cell_type": "code",
   "execution_count": 10,
   "id": "5c563b57-6050-4f5c-bbf5-b183968e0b75",
   "metadata": {
    "tags": []
   },
   "outputs": [
    {
     "data": {
      "text/plain": [
       "['+234 XXX-XXX-XXXX',\n",
       " '+234 XXX-XXX-XXXX',\n",
       " '+254 XXX-XXXXXX',\n",
       " '+91 XXXXX-XXXXX',\n",
       " '+91 XXXXX-XXXXX']"
      ]
     },
     "execution_count": 10,
     "metadata": {},
     "output_type": "execute_result"
    }
   ],
   "source": [
    "phone_numbers[:5]"
   ]
  },
  {
   "cell_type": "markdown",
   "id": "42703137-0019-42c9-a43d-5369355bd894",
   "metadata": {},
   "source": [
    "Secondly, I will take out the country code for each number. They are usually the first group of numbers.  \n",
    "Note: after some investigation about country phone preffixes, I found out that some codes start with `+1 (xxx)`. So The preffix extraction method needs some retunning."
   ]
  },
  {
   "cell_type": "code",
   "execution_count": 11,
   "id": "38a7168a-d240-4682-a541-d804aa970fff",
   "metadata": {
    "tags": []
   },
   "outputs": [],
   "source": [
    "def extract_preffix(phone_number):\n",
    "    if phone_number.startswith('+1'):\n",
    "        preffix = phone_number.split(' ')[:2]\n",
    "        preffix = preffix[0] + '-' + preffix[1][1:-1]  # remove the parenthesis and join with hyphen\n",
    "        return preffix\n",
    "    else:\n",
    "        return phone_number.split(' ')[0]"
   ]
  },
  {
   "cell_type": "code",
   "execution_count": 12,
   "id": "34e3b196-3438-4b25-a96e-5c429bb5dfd4",
   "metadata": {
    "tags": []
   },
   "outputs": [],
   "source": [
    "whatsapp_preffixes = [extract_preffix(i) for i in phone_numbers]"
   ]
  },
  {
   "cell_type": "code",
   "execution_count": 13,
   "id": "eac402be-100c-45cd-9606-a519407c3c74",
   "metadata": {
    "tags": []
   },
   "outputs": [
    {
     "data": {
      "text/plain": [
       "['+234', '+234', '+254', '+91', '+91', '+234', '+234', '+234', '+234', '+234']"
      ]
     },
     "execution_count": 13,
     "metadata": {},
     "output_type": "execute_result"
    }
   ],
   "source": [
    "whatsapp_preffixes[:10]"
   ]
  },
  {
   "cell_type": "markdown",
   "id": "ba454a08-e55f-443d-a40f-96823c7c8906",
   "metadata": {},
   "source": [
    "## It looks like Nigeria and Ghana are in da house..."
   ]
  },
  {
   "cell_type": "markdown",
   "id": "5d8ec2c3-1b56-4cc3-919e-4cac25487241",
   "metadata": {},
   "source": [
    "## Now let's make use of pandas to have a count for distinct country codes"
   ]
  },
  {
   "cell_type": "code",
   "execution_count": 14,
   "id": "ea3f7e5a-b709-4d67-a228-0edc2808c426",
   "metadata": {
    "tags": []
   },
   "outputs": [
    {
     "data": {
      "text/plain": [
       "0      +234\n",
       "1      +234\n",
       "2      +254\n",
       "3       +91\n",
       "4       +91\n",
       "       ... \n",
       "995     +94\n",
       "996    +971\n",
       "997    +977\n",
       "998    +992\n",
       "999    +995\n",
       "Length: 1000, dtype: object"
      ]
     },
     "execution_count": 14,
     "metadata": {},
     "output_type": "execute_result"
    }
   ],
   "source": [
    "whatsapp_preffixes_series = pd.Series(whatsapp_preffixes)\n",
    "whatsapp_preffixes_series"
   ]
  },
  {
   "cell_type": "markdown",
   "id": "93b760af-9ecd-4941-907e-531f1838f8d9",
   "metadata": {},
   "source": [
    "## And now, get the count of unique country codes"
   ]
  },
  {
   "cell_type": "code",
   "execution_count": 15,
   "id": "bd428d55-f0d5-48b7-9edd-1dc4f24f556a",
   "metadata": {
    "tags": []
   },
   "outputs": [
    {
     "data": {
      "text/plain": [
       "+234    715\n",
       "+233     57\n",
       "+91      52\n",
       "+254     39\n",
       "+44      14\n",
       "       ... \n",
       "+57       1\n",
       "+94       1\n",
       "+971      1\n",
       "+977      1\n",
       "+995      1\n",
       "Length: 62, dtype: int64"
      ]
     },
     "execution_count": 15,
     "metadata": {},
     "output_type": "execute_result"
    }
   ],
   "source": [
    "whatsapp_preffixes_count = whatsapp_preffixes_series.value_counts().sort_values(ascending=False)\n",
    "whatsapp_preffixes_count"
   ]
  },
  {
   "cell_type": "markdown",
   "id": "d9e6ba5f-2f5d-4b02-91e4-2d2565aa3665",
   "metadata": {},
   "source": [
    "## Now that we have the count values, we need to assign the country code to the country name  \n",
    "We need some help. I had to look up in the internet for some listing of the country names and country codes"
   ]
  },
  {
   "cell_type": "markdown",
   "id": "01a8eb52-1bf0-4aa4-be4d-45afb82cde29",
   "metadata": {},
   "source": [
    "## Load the country codes and country phone preffixes as a python dictionary, using a json file."
   ]
  },
  {
   "cell_type": "code",
   "execution_count": 16,
   "id": "0916a9db-db5d-4713-848a-f09d9c94dc36",
   "metadata": {
    "tags": []
   },
   "outputs": [],
   "source": [
    "with open('international_phone_codes.txt', 'r') as file:\n",
    "    phone_codes = file.readlines()"
   ]
  },
  {
   "cell_type": "code",
   "execution_count": 17,
   "id": "a1c22ff8-bb36-4078-9628-6027ce5c4fbc",
   "metadata": {
    "tags": []
   },
   "outputs": [
    {
     "data": {
      "text/plain": [
       "['Afghanistan,+93\\n',\n",
       " 'Albania,+355\\n',\n",
       " 'Algeria,+213\\n',\n",
       " 'American Samoa,+1-684\\n',\n",
       " 'Andorra,+376\\n']"
      ]
     },
     "execution_count": 17,
     "metadata": {},
     "output_type": "execute_result"
    }
   ],
   "source": [
    "phone_codes[:5]"
   ]
  },
  {
   "cell_type": "markdown",
   "id": "276dca42-536a-4fda-918c-61cdcee6c2ce",
   "metadata": {},
   "source": [
    "## Phone codes need some cleaning"
   ]
  },
  {
   "cell_type": "code",
   "execution_count": 18,
   "id": "448e4dc9-1234-4778-9c34-02beed45b1bb",
   "metadata": {
    "tags": []
   },
   "outputs": [
    {
     "data": {
      "text/plain": [
       "[['Afghanistan', '+93'],\n",
       " ['Albania', '+355'],\n",
       " ['Algeria', '+213'],\n",
       " ['American Samoa', '+1-684'],\n",
       " ['Andorra', '+376']]"
      ]
     },
     "execution_count": 18,
     "metadata": {},
     "output_type": "execute_result"
    }
   ],
   "source": [
    "phone_codes = [i.strip('\\n').split(',') for i in phone_codes]\n",
    "phone_codes[:5]"
   ]
  },
  {
   "cell_type": "code",
   "execution_count": 19,
   "id": "fc750800-d340-4485-a02f-19eed46e359a",
   "metadata": {
    "tags": []
   },
   "outputs": [],
   "source": [
    "phone_codes_dic = {}\n",
    "for line in phone_codes:\n",
    "    country = line[0]\n",
    "    code = line[1]\n",
    "    phone_codes_dic[country] = code"
   ]
  },
  {
   "cell_type": "code",
   "execution_count": 20,
   "id": "7273aee7-76cc-4c73-9c5c-bda6262d6a6a",
   "metadata": {
    "tags": []
   },
   "outputs": [],
   "source": [
    "#phone_codes_dic"
   ]
  },
  {
   "cell_type": "markdown",
   "id": "5f25fb1a-fdd9-4994-84f0-420f664b3985",
   "metadata": {},
   "source": [
    "## For learning purposes, I leave the same code as above, but in the form of a python dictionary comprehension:"
   ]
  },
  {
   "cell_type": "code",
   "execution_count": 21,
   "id": "d5eab816-5204-4f7b-893d-3881ce2e21fd",
   "metadata": {
    "tags": []
   },
   "outputs": [],
   "source": [
    "# countries = [i[0] for i in phone_codes]\n",
    "# preffixes = [i[1] for i in phone_codes]\n",
    "# phone_codes_dic = {k:v for k,v in zip(countries, preffixes) }"
   ]
  },
  {
   "cell_type": "markdown",
   "id": "eeac443b-12b9-41c0-a6e0-f7dfe81fbda7",
   "metadata": {},
   "source": [
    "## Let's store it in a dataframe "
   ]
  },
  {
   "cell_type": "code",
   "execution_count": 22,
   "id": "71aa0203-7fac-488d-b9da-5426c6953c51",
   "metadata": {
    "tags": []
   },
   "outputs": [],
   "source": [
    "phone_codes_df = pd.DataFrame( {'country_name': phone_codes_dic.keys(),'preffix' : phone_codes_dic.values() } )"
   ]
  },
  {
   "cell_type": "code",
   "execution_count": 23,
   "id": "6c24b82f-4492-4f05-bd84-66b92cc3a393",
   "metadata": {
    "tags": []
   },
   "outputs": [
    {
     "data": {
      "text/html": [
       "<div>\n",
       "<style scoped>\n",
       "    .dataframe tbody tr th:only-of-type {\n",
       "        vertical-align: middle;\n",
       "    }\n",
       "\n",
       "    .dataframe tbody tr th {\n",
       "        vertical-align: top;\n",
       "    }\n",
       "\n",
       "    .dataframe thead th {\n",
       "        text-align: right;\n",
       "    }\n",
       "</style>\n",
       "<table border=\"1\" class=\"dataframe\">\n",
       "  <thead>\n",
       "    <tr style=\"text-align: right;\">\n",
       "      <th></th>\n",
       "      <th>country_name</th>\n",
       "      <th>preffix</th>\n",
       "    </tr>\n",
       "  </thead>\n",
       "  <tbody>\n",
       "    <tr>\n",
       "      <th>110</th>\n",
       "      <td>Kosovo</td>\n",
       "      <td>+383</td>\n",
       "    </tr>\n",
       "    <tr>\n",
       "      <th>96</th>\n",
       "      <td>Iran</td>\n",
       "      <td>+98</td>\n",
       "    </tr>\n",
       "    <tr>\n",
       "      <th>91</th>\n",
       "      <td>Hong Kong</td>\n",
       "      <td>+852</td>\n",
       "    </tr>\n",
       "    <tr>\n",
       "      <th>155</th>\n",
       "      <td>North Korea</td>\n",
       "      <td>+850</td>\n",
       "    </tr>\n",
       "    <tr>\n",
       "      <th>231</th>\n",
       "      <td>Vanuatu</td>\n",
       "      <td>+678</td>\n",
       "    </tr>\n",
       "  </tbody>\n",
       "</table>\n",
       "</div>"
      ],
      "text/plain": [
       "    country_name preffix\n",
       "110       Kosovo    +383\n",
       "96          Iran     +98\n",
       "91     Hong Kong    +852\n",
       "155  North Korea    +850\n",
       "231      Vanuatu    +678"
      ]
     },
     "execution_count": 23,
     "metadata": {},
     "output_type": "execute_result"
    }
   ],
   "source": [
    "phone_codes_df.sample(5)"
   ]
  },
  {
   "cell_type": "markdown",
   "id": "b2847121-b34c-4de6-bb21-4920b70acb9b",
   "metadata": {},
   "source": [
    "A fine tunning: set preffix as index, so queries will be easier later."
   ]
  },
  {
   "cell_type": "code",
   "execution_count": 24,
   "id": "02e784cf-574b-4166-b1fa-dec9b95df669",
   "metadata": {
    "tags": []
   },
   "outputs": [],
   "source": [
    "phone_codes_df.set_index('preffix', inplace=True)"
   ]
  },
  {
   "cell_type": "code",
   "execution_count": 25,
   "id": "ac5e94f0-a5c3-42c8-aba5-35428d389d7a",
   "metadata": {
    "tags": []
   },
   "outputs": [
    {
     "data": {
      "text/html": [
       "<div>\n",
       "<style scoped>\n",
       "    .dataframe tbody tr th:only-of-type {\n",
       "        vertical-align: middle;\n",
       "    }\n",
       "\n",
       "    .dataframe tbody tr th {\n",
       "        vertical-align: top;\n",
       "    }\n",
       "\n",
       "    .dataframe thead th {\n",
       "        text-align: right;\n",
       "    }\n",
       "</style>\n",
       "<table border=\"1\" class=\"dataframe\">\n",
       "  <thead>\n",
       "    <tr style=\"text-align: right;\">\n",
       "      <th></th>\n",
       "      <th>country_name</th>\n",
       "    </tr>\n",
       "    <tr>\n",
       "      <th>preffix</th>\n",
       "      <th></th>\n",
       "    </tr>\n",
       "  </thead>\n",
       "  <tbody>\n",
       "    <tr>\n",
       "      <th>+226</th>\n",
       "      <td>Burkina Faso</td>\n",
       "    </tr>\n",
       "    <tr>\n",
       "      <th>+677</th>\n",
       "      <td>Solomon Islands</td>\n",
       "    </tr>\n",
       "    <tr>\n",
       "      <th>+33</th>\n",
       "      <td>France</td>\n",
       "    </tr>\n",
       "    <tr>\n",
       "      <th>+65</th>\n",
       "      <td>Singapore</td>\n",
       "    </tr>\n",
       "    <tr>\n",
       "      <th>+685</th>\n",
       "      <td>Samoa</td>\n",
       "    </tr>\n",
       "  </tbody>\n",
       "</table>\n",
       "</div>"
      ],
      "text/plain": [
       "            country_name\n",
       "preffix                 \n",
       "+226        Burkina Faso\n",
       "+677     Solomon Islands\n",
       "+33               France\n",
       "+65            Singapore\n",
       "+685               Samoa"
      ]
     },
     "execution_count": 25,
     "metadata": {},
     "output_type": "execute_result"
    }
   ],
   "source": [
    "phone_codes_df.sample(5)"
   ]
  },
  {
   "cell_type": "markdown",
   "id": "03cd28bc-10f1-489d-a484-080852495273",
   "metadata": {},
   "source": [
    "Export the `phone_codes_df` to csv in case anyone wants to use it. I'd like to thank ChatGTP, for its unvaluable help."
   ]
  },
  {
   "cell_type": "code",
   "execution_count": 26,
   "id": "55d05b7f-43b2-41b5-a3a6-50e69a00fdda",
   "metadata": {
    "tags": []
   },
   "outputs": [],
   "source": [
    "phone_codes_df.to_csv('international_phone_codes.csv', index=False)"
   ]
  },
  {
   "cell_type": "markdown",
   "id": "6287f26a-af85-4248-90fa-97b1efd1c9cf",
   "metadata": {},
   "source": [
    "## We're reaching the end of the process  \n",
    "Now let's get the list of country names for the preffixes of the whatsapp numbers"
   ]
  },
  {
   "cell_type": "markdown",
   "id": "b3559356-7bfa-4dfb-b507-6fe2d119579f",
   "metadata": {},
   "source": [
    "Do you remember the name of the variable where we stored the whatsapp preffixes? No? Me neither.  \n",
    "Let's use a trick to list all the variables we have declared so far: `dir()`"
   ]
  },
  {
   "cell_type": "markdown",
   "id": "a01eb344-23c4-4f4c-ae65-f4d236a8998e",
   "metadata": {},
   "source": [
    "`dir()` returns also reserved variables (which start with underscore), so I will filter them and get only the ones we ourselves defined."
   ]
  },
  {
   "cell_type": "code",
   "execution_count": 27,
   "id": "065d9123-ae9a-47d1-bd0b-f2b7c4749c92",
   "metadata": {
    "tags": []
   },
   "outputs": [
    {
     "data": {
      "text/plain": [
       "['In',\n",
       " 'Out',\n",
       " 'code',\n",
       " 'contacts_encrypted',\n",
       " 'country',\n",
       " 'exit',\n",
       " 'extract_preffix',\n",
       " 'file',\n",
       " 'get_ipython',\n",
       " 'line',\n",
       " 'open',\n",
       " 'pd',\n",
       " 'phone_codes',\n",
       " 'phone_codes_df',\n",
       " 'phone_codes_dic',\n",
       " 'phone_numbers',\n",
       " 'plt',\n",
       " 'quit',\n",
       " 'whatsapp_preffixes',\n",
       " 'whatsapp_preffixes_count',\n",
       " 'whatsapp_preffixes_series']"
      ]
     },
     "execution_count": 27,
     "metadata": {},
     "output_type": "execute_result"
    }
   ],
   "source": [
    "variables = [i for i in dir() if not i.startswith('_')]\n",
    "variables"
   ]
  },
  {
   "cell_type": "markdown",
   "id": "302cb88d-3c15-4ee3-969a-c2affa574082",
   "metadata": {},
   "source": [
    "That's it. It was called `whatsapp_preffixes_count`"
   ]
  },
  {
   "cell_type": "code",
   "execution_count": 28,
   "id": "b422a9b3-dc1c-44e0-a172-b75091b751cf",
   "metadata": {
    "tags": []
   },
   "outputs": [
    {
     "data": {
      "text/plain": [
       "+234    715\n",
       "+233     57\n",
       "+91      52\n",
       "+254     39\n",
       "+44      14\n",
       "       ... \n",
       "+57       1\n",
       "+94       1\n",
       "+971      1\n",
       "+977      1\n",
       "+995      1\n",
       "Length: 62, dtype: int64"
      ]
     },
     "execution_count": 28,
     "metadata": {},
     "output_type": "execute_result"
    }
   ],
   "source": [
    "whatsapp_preffixes_count"
   ]
  },
  {
   "cell_type": "code",
   "execution_count": 29,
   "id": "da0af1c3-c458-41e4-947d-d8ce94851559",
   "metadata": {
    "tags": []
   },
   "outputs": [],
   "source": [
    "# make prettier the count series\n",
    "whatsapp_preffixes_count = (whatsapp_preffixes_count.to_frame()\n",
    "     .reset_index()\n",
    "     .rename(columns = {'index' : 'preffix', 0 : 'count'})\n",
    ")"
   ]
  },
  {
   "cell_type": "code",
   "execution_count": 30,
   "id": "4bbcb106-8efc-42ea-b9db-4123d0595c58",
   "metadata": {
    "tags": []
   },
   "outputs": [
    {
     "data": {
      "text/html": [
       "<div>\n",
       "<style scoped>\n",
       "    .dataframe tbody tr th:only-of-type {\n",
       "        vertical-align: middle;\n",
       "    }\n",
       "\n",
       "    .dataframe tbody tr th {\n",
       "        vertical-align: top;\n",
       "    }\n",
       "\n",
       "    .dataframe thead th {\n",
       "        text-align: right;\n",
       "    }\n",
       "</style>\n",
       "<table border=\"1\" class=\"dataframe\">\n",
       "  <thead>\n",
       "    <tr style=\"text-align: right;\">\n",
       "      <th></th>\n",
       "      <th>preffix</th>\n",
       "      <th>count</th>\n",
       "    </tr>\n",
       "  </thead>\n",
       "  <tbody>\n",
       "    <tr>\n",
       "      <th>0</th>\n",
       "      <td>+234</td>\n",
       "      <td>715</td>\n",
       "    </tr>\n",
       "    <tr>\n",
       "      <th>1</th>\n",
       "      <td>+233</td>\n",
       "      <td>57</td>\n",
       "    </tr>\n",
       "    <tr>\n",
       "      <th>2</th>\n",
       "      <td>+91</td>\n",
       "      <td>52</td>\n",
       "    </tr>\n",
       "    <tr>\n",
       "      <th>3</th>\n",
       "      <td>+254</td>\n",
       "      <td>39</td>\n",
       "    </tr>\n",
       "    <tr>\n",
       "      <th>4</th>\n",
       "      <td>+44</td>\n",
       "      <td>14</td>\n",
       "    </tr>\n",
       "    <tr>\n",
       "      <th>...</th>\n",
       "      <td>...</td>\n",
       "      <td>...</td>\n",
       "    </tr>\n",
       "    <tr>\n",
       "      <th>57</th>\n",
       "      <td>+57</td>\n",
       "      <td>1</td>\n",
       "    </tr>\n",
       "    <tr>\n",
       "      <th>58</th>\n",
       "      <td>+94</td>\n",
       "      <td>1</td>\n",
       "    </tr>\n",
       "    <tr>\n",
       "      <th>59</th>\n",
       "      <td>+971</td>\n",
       "      <td>1</td>\n",
       "    </tr>\n",
       "    <tr>\n",
       "      <th>60</th>\n",
       "      <td>+977</td>\n",
       "      <td>1</td>\n",
       "    </tr>\n",
       "    <tr>\n",
       "      <th>61</th>\n",
       "      <td>+995</td>\n",
       "      <td>1</td>\n",
       "    </tr>\n",
       "  </tbody>\n",
       "</table>\n",
       "<p>62 rows × 2 columns</p>\n",
       "</div>"
      ],
      "text/plain": [
       "   preffix  count\n",
       "0     +234    715\n",
       "1     +233     57\n",
       "2      +91     52\n",
       "3     +254     39\n",
       "4      +44     14\n",
       "..     ...    ...\n",
       "57     +57      1\n",
       "58     +94      1\n",
       "59    +971      1\n",
       "60    +977      1\n",
       "61    +995      1\n",
       "\n",
       "[62 rows x 2 columns]"
      ]
     },
     "execution_count": 30,
     "metadata": {},
     "output_type": "execute_result"
    }
   ],
   "source": [
    "whatsapp_preffixes_count"
   ]
  },
  {
   "cell_type": "markdown",
   "id": "5e23bd07-c42a-43e5-98c2-7e3b90b01ad6",
   "metadata": {},
   "source": [
    "## Let's make the query"
   ]
  },
  {
   "cell_type": "markdown",
   "id": "56fce242-d24d-4119-9726-42be2985a3e5",
   "metadata": {},
   "source": [
    "## The code below throws an error:  \n",
    "`KeyError: \"['+1-514', '+1-416', '+1-616', '+1-309', '+1-312', '+1-613', '+1-404', '+1-314', '+1-437', '+1-985', '+1-431', '+1-647', '+1-945', '+1-863', '+1-672', '+1-807', '+1-562'] not in index\".`  "
   ]
  },
  {
   "cell_type": "markdown",
   "id": "10fe3abe-0d79-4674-a27d-d353c62c82ac",
   "metadata": {},
   "source": [
    "<span style='color: yellow ; fontsize: 1.5em'>\n",
    "After some research, I found out those were not international phone preffixes, but from regions in the USA. So I asked my new friend ChatGPT for a list of these preffixes.\n",
    "</span>"
   ]
  },
  {
   "cell_type": "markdown",
   "id": "c7adcef0-a7c7-417d-92f1-feca7c6b3584",
   "metadata": {},
   "source": [
    "[ChatGPT-4](https://chat.openai.com/chat)"
   ]
  },
  {
   "cell_type": "code",
   "execution_count": 31,
   "id": "d310b682-b5b8-4684-bfee-cf27520ddb46",
   "metadata": {
    "tags": []
   },
   "outputs": [],
   "source": [
    "# query = phone_codes_df.loc[whatsapp_preffixes_count.preffix]\n",
    "# query"
   ]
  },
  {
   "cell_type": "markdown",
   "id": "e038e676-e7ac-48c8-b4c9-535d75286822",
   "metadata": {},
   "source": [
    "## Import and create a new dictionary with the USA region preffixes."
   ]
  },
  {
   "cell_type": "code",
   "execution_count": 32,
   "id": "3392bc63-7dbd-465c-a689-898adbbb89fa",
   "metadata": {
    "tags": []
   },
   "outputs": [],
   "source": [
    "with open('usa_region_codes.txt', 'r') as f:\n",
    "    usa_region_codes = f.readlines()"
   ]
  },
  {
   "cell_type": "code",
   "execution_count": 33,
   "id": "5b2b6996-5338-4de4-958c-d88b103f166d",
   "metadata": {
    "tags": []
   },
   "outputs": [
    {
     "data": {
      "text/plain": [
       "['+1 201, New Jersey\\n',\n",
       " '+1 202, District of Columbia\\n',\n",
       " '+1 203, Connecticut\\n',\n",
       " '+1 204, Manitoba, Canada (overlay with 431 and 873)\\n',\n",
       " '+1 205, Alabama\\n']"
      ]
     },
     "execution_count": 33,
     "metadata": {},
     "output_type": "execute_result"
    }
   ],
   "source": [
    "usa_region_codes[:5]"
   ]
  },
  {
   "cell_type": "markdown",
   "id": "f9b94536-f861-40ee-ba43-bb608771f432",
   "metadata": {},
   "source": [
    "## USA region codes need some cleaning. After that, I create a dataframe with these new data."
   ]
  },
  {
   "cell_type": "code",
   "execution_count": 34,
   "id": "db0cccd7-a010-4822-a3c5-ae9f11883dad",
   "metadata": {
    "tags": []
   },
   "outputs": [
    {
     "data": {
      "text/plain": [
       "[['+1 201', ' New Jersey'],\n",
       " ['+1 202', ' District of Columbia'],\n",
       " ['+1 203', ' Connecticut'],\n",
       " ['+1 204', ' Manitoba', ' Canada (overlay with 431 and 873)'],\n",
       " ['+1 205', ' Alabama']]"
      ]
     },
     "execution_count": 34,
     "metadata": {},
     "output_type": "execute_result"
    }
   ],
   "source": [
    "usa_region_codes = [i.strip('\\n').split(',') for i in usa_region_codes]\n",
    "usa_region_codes[:5]"
   ]
  },
  {
   "cell_type": "code",
   "execution_count": 35,
   "id": "d86596d6-a47f-4715-a602-d9ebe36496b7",
   "metadata": {
    "tags": []
   },
   "outputs": [],
   "source": [
    "usa_region_codes_dic = {}\n",
    "for line in usa_region_codes:\n",
    "    region = line[1] + ', USA'\n",
    "    code = line[0].replace(' ','-')\n",
    "    usa_region_codes_dic[region] = code"
   ]
  },
  {
   "cell_type": "code",
   "execution_count": 36,
   "id": "d249b1cf-e25b-40a3-93d4-8795df6f4e13",
   "metadata": {
    "tags": []
   },
   "outputs": [],
   "source": [
    "#usa_region_codes_dic"
   ]
  },
  {
   "cell_type": "code",
   "execution_count": 37,
   "id": "b47aed88-7708-4f71-aa70-d217154f8aa6",
   "metadata": {
    "tags": []
   },
   "outputs": [],
   "source": [
    "usa_region_codes_df = pd.DataFrame(\n",
    "    {'country_name' : usa_region_codes_dic.keys(),\n",
    "     'preffix' : usa_region_codes_dic.values() }\n",
    ")"
   ]
  },
  {
   "cell_type": "code",
   "execution_count": 38,
   "id": "dd655ca7-f18d-4320-a43a-c956a1ac2a81",
   "metadata": {
    "tags": []
   },
   "outputs": [
    {
     "data": {
      "text/html": [
       "<div>\n",
       "<style scoped>\n",
       "    .dataframe tbody tr th:only-of-type {\n",
       "        vertical-align: middle;\n",
       "    }\n",
       "\n",
       "    .dataframe tbody tr th {\n",
       "        vertical-align: top;\n",
       "    }\n",
       "\n",
       "    .dataframe thead th {\n",
       "        text-align: right;\n",
       "    }\n",
       "</style>\n",
       "<table border=\"1\" class=\"dataframe\">\n",
       "  <thead>\n",
       "    <tr style=\"text-align: right;\">\n",
       "      <th></th>\n",
       "      <th>country_name</th>\n",
       "      <th>preffix</th>\n",
       "    </tr>\n",
       "  </thead>\n",
       "  <tbody>\n",
       "    <tr>\n",
       "      <th>0</th>\n",
       "      <td>New Jersey, USA</td>\n",
       "      <td>+1-609</td>\n",
       "    </tr>\n",
       "    <tr>\n",
       "      <th>1</th>\n",
       "      <td>District of Columbia, USA</td>\n",
       "      <td>+1-202</td>\n",
       "    </tr>\n",
       "    <tr>\n",
       "      <th>2</th>\n",
       "      <td>Connecticut, USA</td>\n",
       "      <td>+1-203</td>\n",
       "    </tr>\n",
       "    <tr>\n",
       "      <th>3</th>\n",
       "      <td>Manitoba, USA</td>\n",
       "      <td>+1-431</td>\n",
       "    </tr>\n",
       "    <tr>\n",
       "      <th>4</th>\n",
       "      <td>Alabama, USA</td>\n",
       "      <td>+1-334</td>\n",
       "    </tr>\n",
       "  </tbody>\n",
       "</table>\n",
       "</div>"
      ],
      "text/plain": [
       "                 country_name preffix\n",
       "0             New Jersey, USA  +1-609\n",
       "1   District of Columbia, USA  +1-202\n",
       "2            Connecticut, USA  +1-203\n",
       "3               Manitoba, USA  +1-431\n",
       "4                Alabama, USA  +1-334"
      ]
     },
     "execution_count": 38,
     "metadata": {},
     "output_type": "execute_result"
    }
   ],
   "source": [
    "usa_region_codes_df.head()"
   ]
  },
  {
   "cell_type": "markdown",
   "id": "1a06018d-45d4-4841-9900-9d90fb9ce7db",
   "metadata": {},
   "source": [
    "Export the `usa_region_codes` to csv in case anyone wants to use it. After all, I hope someone can take profit of the time consuming process (thanks, ChatGTP)."
   ]
  },
  {
   "cell_type": "code",
   "execution_count": 39,
   "id": "84970ec1-673b-44d2-8d74-98f30b6cd65b",
   "metadata": {
    "tags": []
   },
   "outputs": [],
   "source": [
    "usa_region_codes_df.to_csv('usa_region_codes.csv', index=False)"
   ]
  },
  {
   "cell_type": "markdown",
   "id": "838fd28a-810e-4da7-b875-569ff177775d",
   "metadata": {},
   "source": [
    "## I need to reset the index so both dataframes can be merged joined by the `preffix` column"
   ]
  },
  {
   "cell_type": "code",
   "execution_count": 40,
   "id": "6cdb68a3-e252-40d5-8f1b-74308af7f5ad",
   "metadata": {
    "tags": []
   },
   "outputs": [],
   "source": [
    "phone_codes_df = phone_codes_df.reset_index().rename(columns={'index' : 'preffix'})"
   ]
  },
  {
   "cell_type": "code",
   "execution_count": 41,
   "id": "7e482a4a-dbab-4667-a755-d701f08e264d",
   "metadata": {
    "tags": []
   },
   "outputs": [
    {
     "data": {
      "text/html": [
       "<div>\n",
       "<style scoped>\n",
       "    .dataframe tbody tr th:only-of-type {\n",
       "        vertical-align: middle;\n",
       "    }\n",
       "\n",
       "    .dataframe tbody tr th {\n",
       "        vertical-align: top;\n",
       "    }\n",
       "\n",
       "    .dataframe thead th {\n",
       "        text-align: right;\n",
       "    }\n",
       "</style>\n",
       "<table border=\"1\" class=\"dataframe\">\n",
       "  <thead>\n",
       "    <tr style=\"text-align: right;\">\n",
       "      <th></th>\n",
       "      <th>preffix</th>\n",
       "      <th>country_name</th>\n",
       "    </tr>\n",
       "  </thead>\n",
       "  <tbody>\n",
       "    <tr>\n",
       "      <th>0</th>\n",
       "      <td>+93</td>\n",
       "      <td>Afghanistan</td>\n",
       "    </tr>\n",
       "    <tr>\n",
       "      <th>1</th>\n",
       "      <td>+355</td>\n",
       "      <td>Albania</td>\n",
       "    </tr>\n",
       "    <tr>\n",
       "      <th>2</th>\n",
       "      <td>+213</td>\n",
       "      <td>Algeria</td>\n",
       "    </tr>\n",
       "    <tr>\n",
       "      <th>3</th>\n",
       "      <td>+1-684</td>\n",
       "      <td>American Samoa</td>\n",
       "    </tr>\n",
       "    <tr>\n",
       "      <th>4</th>\n",
       "      <td>+376</td>\n",
       "      <td>Andorra</td>\n",
       "    </tr>\n",
       "    <tr>\n",
       "      <th>...</th>\n",
       "      <td>...</td>\n",
       "      <td>...</td>\n",
       "    </tr>\n",
       "    <tr>\n",
       "      <th>235</th>\n",
       "      <td>+681</td>\n",
       "      <td>Wallis and Futuna</td>\n",
       "    </tr>\n",
       "    <tr>\n",
       "      <th>236</th>\n",
       "      <td>+212</td>\n",
       "      <td>Western Sahara</td>\n",
       "    </tr>\n",
       "    <tr>\n",
       "      <th>237</th>\n",
       "      <td>+967</td>\n",
       "      <td>Yemen</td>\n",
       "    </tr>\n",
       "    <tr>\n",
       "      <th>238</th>\n",
       "      <td>+260</td>\n",
       "      <td>Zambia</td>\n",
       "    </tr>\n",
       "    <tr>\n",
       "      <th>239</th>\n",
       "      <td>+263</td>\n",
       "      <td>Zimbabwe</td>\n",
       "    </tr>\n",
       "  </tbody>\n",
       "</table>\n",
       "<p>240 rows × 2 columns</p>\n",
       "</div>"
      ],
      "text/plain": [
       "    preffix       country_name\n",
       "0       +93        Afghanistan\n",
       "1      +355            Albania\n",
       "2      +213            Algeria\n",
       "3    +1-684     American Samoa\n",
       "4      +376            Andorra\n",
       "..      ...                ...\n",
       "235    +681  Wallis and Futuna\n",
       "236    +212     Western Sahara\n",
       "237    +967              Yemen\n",
       "238    +260             Zambia\n",
       "239    +263           Zimbabwe\n",
       "\n",
       "[240 rows x 2 columns]"
      ]
     },
     "execution_count": 41,
     "metadata": {},
     "output_type": "execute_result"
    }
   ],
   "source": [
    "phone_codes_df"
   ]
  },
  {
   "cell_type": "markdown",
   "id": "7e85503e-11ad-4935-b50b-cb739702902e",
   "metadata": {},
   "source": [
    "## I will use `pd.concat([df1, df2], axis=0)` to append the new dataframe at the bottom of `phone_codes_df`."
   ]
  },
  {
   "cell_type": "code",
   "execution_count": 42,
   "id": "d6946458-6aaa-4191-bacc-152b2f821046",
   "metadata": {
    "tags": []
   },
   "outputs": [],
   "source": [
    "data = pd.concat([phone_codes_df, usa_region_codes_df], axis=0).sort_values('preffix')"
   ]
  },
  {
   "cell_type": "markdown",
   "id": "39792a61-1801-419a-ae6c-e6176a5f6807",
   "metadata": {},
   "source": [
    "Set the `preffix` as an index"
   ]
  },
  {
   "cell_type": "code",
   "execution_count": 43,
   "id": "eb267830-b518-41a8-8a37-0f6fdc7e479b",
   "metadata": {
    "tags": []
   },
   "outputs": [],
   "source": [
    "data.set_index('preffix', inplace=True)"
   ]
  },
  {
   "cell_type": "markdown",
   "id": "a965a133-fc72-421e-8282-d5242ce4f8f6",
   "metadata": {},
   "source": [
    "## Let's try again after the fix"
   ]
  },
  {
   "cell_type": "code",
   "execution_count": 44,
   "id": "d0136f20-89e4-495d-8d0d-2afa110733fe",
   "metadata": {
    "tags": []
   },
   "outputs": [
    {
     "data": {
      "text/html": [
       "<div>\n",
       "<style scoped>\n",
       "    .dataframe tbody tr th:only-of-type {\n",
       "        vertical-align: middle;\n",
       "    }\n",
       "\n",
       "    .dataframe tbody tr th {\n",
       "        vertical-align: top;\n",
       "    }\n",
       "\n",
       "    .dataframe thead th {\n",
       "        text-align: right;\n",
       "    }\n",
       "</style>\n",
       "<table border=\"1\" class=\"dataframe\">\n",
       "  <thead>\n",
       "    <tr style=\"text-align: right;\">\n",
       "      <th></th>\n",
       "      <th>country_name</th>\n",
       "    </tr>\n",
       "    <tr>\n",
       "      <th>preffix</th>\n",
       "      <th></th>\n",
       "    </tr>\n",
       "  </thead>\n",
       "  <tbody>\n",
       "    <tr>\n",
       "      <th>+234</th>\n",
       "      <td>Nigeria</td>\n",
       "    </tr>\n",
       "    <tr>\n",
       "      <th>+233</th>\n",
       "      <td>Ghana</td>\n",
       "    </tr>\n",
       "    <tr>\n",
       "      <th>+91</th>\n",
       "      <td>India</td>\n",
       "    </tr>\n",
       "    <tr>\n",
       "      <th>+254</th>\n",
       "      <td>Kenya</td>\n",
       "    </tr>\n",
       "    <tr>\n",
       "      <th>+44</th>\n",
       "      <td>United Kingdom</td>\n",
       "    </tr>\n",
       "    <tr>\n",
       "      <th>...</th>\n",
       "      <td>...</td>\n",
       "    </tr>\n",
       "    <tr>\n",
       "      <th>+57</th>\n",
       "      <td>Colombia</td>\n",
       "    </tr>\n",
       "    <tr>\n",
       "      <th>+94</th>\n",
       "      <td>Sri Lanka</td>\n",
       "    </tr>\n",
       "    <tr>\n",
       "      <th>+971</th>\n",
       "      <td>United Arab Emirates</td>\n",
       "    </tr>\n",
       "    <tr>\n",
       "      <th>+977</th>\n",
       "      <td>Nepal</td>\n",
       "    </tr>\n",
       "    <tr>\n",
       "      <th>+995</th>\n",
       "      <td>Georgia</td>\n",
       "    </tr>\n",
       "  </tbody>\n",
       "</table>\n",
       "<p>63 rows × 1 columns</p>\n",
       "</div>"
      ],
      "text/plain": [
       "                 country_name\n",
       "preffix                      \n",
       "+234                  Nigeria\n",
       "+233                    Ghana\n",
       "+91                     India\n",
       "+254                    Kenya\n",
       "+44            United Kingdom\n",
       "...                       ...\n",
       "+57                  Colombia\n",
       "+94                 Sri Lanka\n",
       "+971     United Arab Emirates\n",
       "+977                    Nepal\n",
       "+995                  Georgia\n",
       "\n",
       "[63 rows x 1 columns]"
      ]
     },
     "execution_count": 44,
     "metadata": {},
     "output_type": "execute_result"
    }
   ],
   "source": [
    "query = data.loc[whatsapp_preffixes_count.preffix]\n",
    "query"
   ]
  },
  {
   "cell_type": "markdown",
   "id": "4c26e20e-3990-481c-be6f-4144a6c05210",
   "metadata": {},
   "source": [
    "## I set the index of the query as a column, so I can merge on the preffix column later"
   ]
  },
  {
   "cell_type": "code",
   "execution_count": 45,
   "id": "93c9b98c-b3a1-47a0-8332-447fd588bb1a",
   "metadata": {
    "tags": []
   },
   "outputs": [],
   "source": [
    "query = query.reset_index().rename(columns = {'index' : 'preffix'})"
   ]
  },
  {
   "cell_type": "markdown",
   "id": "c8a22e99-4f44-4334-878a-29281c4352a7",
   "metadata": {
    "tags": []
   },
   "source": [
    "## Finally merge both the query result and the preffixes count"
   ]
  },
  {
   "cell_type": "code",
   "execution_count": 46,
   "id": "7dc4e87e-5195-48b7-a92b-8132a6217362",
   "metadata": {
    "tags": []
   },
   "outputs": [],
   "source": [
    "whatsapp_phones_study = pd.merge(query, whatsapp_preffixes_count, on='preffix')"
   ]
  },
  {
   "cell_type": "code",
   "execution_count": 47,
   "id": "d9a16847-0148-4abc-9321-754c9712ae6d",
   "metadata": {
    "tags": []
   },
   "outputs": [
    {
     "data": {
      "text/html": [
       "<div>\n",
       "<style scoped>\n",
       "    .dataframe tbody tr th:only-of-type {\n",
       "        vertical-align: middle;\n",
       "    }\n",
       "\n",
       "    .dataframe tbody tr th {\n",
       "        vertical-align: top;\n",
       "    }\n",
       "\n",
       "    .dataframe thead th {\n",
       "        text-align: right;\n",
       "    }\n",
       "</style>\n",
       "<table border=\"1\" class=\"dataframe\">\n",
       "  <thead>\n",
       "    <tr style=\"text-align: right;\">\n",
       "      <th></th>\n",
       "      <th>preffix</th>\n",
       "      <th>country_name</th>\n",
       "      <th>count</th>\n",
       "    </tr>\n",
       "  </thead>\n",
       "  <tbody>\n",
       "    <tr>\n",
       "      <th>0</th>\n",
       "      <td>+234</td>\n",
       "      <td>Nigeria</td>\n",
       "      <td>715</td>\n",
       "    </tr>\n",
       "    <tr>\n",
       "      <th>1</th>\n",
       "      <td>+233</td>\n",
       "      <td>Ghana</td>\n",
       "      <td>57</td>\n",
       "    </tr>\n",
       "    <tr>\n",
       "      <th>2</th>\n",
       "      <td>+91</td>\n",
       "      <td>India</td>\n",
       "      <td>52</td>\n",
       "    </tr>\n",
       "    <tr>\n",
       "      <th>3</th>\n",
       "      <td>+254</td>\n",
       "      <td>Kenya</td>\n",
       "      <td>39</td>\n",
       "    </tr>\n",
       "    <tr>\n",
       "      <th>4</th>\n",
       "      <td>+44</td>\n",
       "      <td>United Kingdom</td>\n",
       "      <td>14</td>\n",
       "    </tr>\n",
       "    <tr>\n",
       "      <th>...</th>\n",
       "      <td>...</td>\n",
       "      <td>...</td>\n",
       "      <td>...</td>\n",
       "    </tr>\n",
       "    <tr>\n",
       "      <th>58</th>\n",
       "      <td>+57</td>\n",
       "      <td>Colombia</td>\n",
       "      <td>1</td>\n",
       "    </tr>\n",
       "    <tr>\n",
       "      <th>59</th>\n",
       "      <td>+94</td>\n",
       "      <td>Sri Lanka</td>\n",
       "      <td>1</td>\n",
       "    </tr>\n",
       "    <tr>\n",
       "      <th>60</th>\n",
       "      <td>+971</td>\n",
       "      <td>United Arab Emirates</td>\n",
       "      <td>1</td>\n",
       "    </tr>\n",
       "    <tr>\n",
       "      <th>61</th>\n",
       "      <td>+977</td>\n",
       "      <td>Nepal</td>\n",
       "      <td>1</td>\n",
       "    </tr>\n",
       "    <tr>\n",
       "      <th>62</th>\n",
       "      <td>+995</td>\n",
       "      <td>Georgia</td>\n",
       "      <td>1</td>\n",
       "    </tr>\n",
       "  </tbody>\n",
       "</table>\n",
       "<p>63 rows × 3 columns</p>\n",
       "</div>"
      ],
      "text/plain": [
       "   preffix          country_name  count\n",
       "0     +234               Nigeria    715\n",
       "1     +233                 Ghana     57\n",
       "2      +91                 India     52\n",
       "3     +254                 Kenya     39\n",
       "4      +44        United Kingdom     14\n",
       "..     ...                   ...    ...\n",
       "58     +57              Colombia      1\n",
       "59     +94             Sri Lanka      1\n",
       "60    +971  United Arab Emirates      1\n",
       "61    +977                 Nepal      1\n",
       "62    +995               Georgia      1\n",
       "\n",
       "[63 rows x 3 columns]"
      ]
     },
     "execution_count": 47,
     "metadata": {},
     "output_type": "execute_result"
    }
   ],
   "source": [
    "whatsapp_phones_study"
   ]
  },
  {
   "cell_type": "markdown",
   "id": "716c8a0b-b5e8-47e5-90d7-5f6702becf31",
   "metadata": {},
   "source": [
    "## Finally some graphs for top 5"
   ]
  },
  {
   "cell_type": "code",
   "execution_count": 48,
   "id": "e6f3a7d3-a9f5-468a-900c-873ed921cc03",
   "metadata": {
    "tags": []
   },
   "outputs": [],
   "source": [
    "top5 = whatsapp_phones_study.nlargest(5, 'count')\n",
    "top5.index = top5.country_name.values"
   ]
  },
  {
   "cell_type": "code",
   "execution_count": 49,
   "id": "67d6e82c-d9c7-423b-919c-4eff87d3bd4e",
   "metadata": {
    "tags": []
   },
   "outputs": [
    {
     "data": {
      "image/png": "[encoded data removed]",
      "text/plain": [
       "<Figure size 640x480 with 1 Axes>"
      ]
     },
     "metadata": {},
     "output_type": "display_data"
    }
   ],
   "source": [
    "top5.plot.barh(y='count')\n",
    "plt.show()"
   ]
  },
  {
   "cell_type": "code",
   "execution_count": 51,
   "id": "6716ca29-a428-43b2-8bb9-74359afb9400",
   "metadata": {
    "tags": []
   },
   "outputs": [
    {
     "data": {
      "image/png": "[encoded data removed]",
      "text/plain": [
       "<Figure size 640x480 with 1 Axes>"
      ]
     },
     "metadata": {},
     "output_type": "display_data"
    }
   ],
   "source": [
    "(top5.plot.pie(y='count', x='country_name' , ylabel='Number of participants',\n",
    "              legend=True, shadow=True, autopct='%1.1f%%', explode=[0.08 for i in range(5)])\n",
    ")\n",
    "plt.show()"
   ]
  },
  {
   "cell_type": "markdown",
   "id": "1646401f-ad80-4bfe-8c00-406be2f468aa",
   "metadata": {},
   "source": [
    "## <span style='color: orange'>Congratulations. Thanks for reading until this point!</span>"
   ]
  }
 ],
 "metadata": {
  "kernelspec": {
   "display_name": "Python 3 (ipykernel)",
   "language": "python",
   "name": "python3"
  },
  "language_info": {
   "codemirror_mode": {
    "name": "ipython",
    "version": 3
   },
   "file_extension": ".py",
   "mimetype": "text/x-python",
   "name": "python",
   "nbconvert_exporter": "python",
   "pygments_lexer": "ipython3",
   "version": "3.10.10"
  }
 },
 "nbformat": 4,
 "nbformat_minor": 5
}
